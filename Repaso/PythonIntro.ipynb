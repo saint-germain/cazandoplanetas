{
 "cells": [
  {
   "cell_type": "code",
   "execution_count": 1,
   "metadata": {},
   "outputs": [
    {
     "name": "stdout",
     "output_type": "stream",
     "text": [
      "The Zen of Python, by Tim Peters\n",
      "\n",
      "Beautiful is better than ugly.\n",
      "Explicit is better than implicit.\n",
      "Simple is better than complex.\n",
      "Complex is better than complicated.\n",
      "Flat is better than nested.\n",
      "Sparse is better than dense.\n",
      "Readability counts.\n",
      "Special cases aren't special enough to break the rules.\n",
      "Although practicality beats purity.\n",
      "Errors should never pass silently.\n",
      "Unless explicitly silenced.\n",
      "In the face of ambiguity, refuse the temptation to guess.\n",
      "There should be one-- and preferably only one --obvious way to do it.\n",
      "Although that way may not be obvious at first unless you're Dutch.\n",
      "Now is better than never.\n",
      "Although never is often better than *right* now.\n",
      "If the implementation is hard to explain, it's a bad idea.\n",
      "If the implementation is easy to explain, it may be a good idea.\n",
      "Namespaces are one honking great idea -- let's do more of those!\n"
     ]
    }
   ],
   "source": [
    "import this"
   ]
  },
  {
   "cell_type": "markdown",
   "metadata": {},
   "source": [
    "## Todo es un objeto"
   ]
  },
  {
   "cell_type": "code",
   "execution_count": 3,
   "metadata": {},
   "outputs": [
    {
     "name": "stdout",
     "output_type": "stream",
     "text": [
      "anint is of <type 'int'> and has value 1024.\n",
      "afloa is of <type 'float'> and has value 1024.2.\n",
      "astri is of <type 'str'> and has value A string object.\n",
      "alist is of <type 'list'> and has value [1, 2].\n"
     ]
    }
   ],
   "source": [
    "anint = 1024 # An integer Python object\n",
    "afloa = 1024.2 # A float object\n",
    "astri = \"A string object\" # A string\n",
    "alist = [1,2] # A list object\n",
    "print \"anint is of \"+ str(type(anint))+\" and has value \"+str(anint)+\".\"\n",
    "print \"afloa is of \"+ str(type(afloa))+\" and has value \"+str(afloa)+\".\"\n",
    "print \"astri is of \"+ str(type(astri))+\" and has value \"+str(astri)+\".\"\n",
    "print \"alist is of \"+ str(type(alist))+\" and has value \"+str(alist)+\".\""
   ]
  },
  {
   "cell_type": "markdown",
   "metadata": {},
   "source": [
    "## Operaciones Aritméticas"
   ]
  },
  {
   "cell_type": "code",
   "execution_count": 4,
   "metadata": {},
   "outputs": [
    {
     "name": "stdout",
     "output_type": "stream",
     "text": [
      "# Addition: 1+1=2\n",
      "# Multiplication: 1*2=2\n",
      "# Division: 1/2=0\n",
      "# Division: 1/2=0.5\n",
      "# Division: 1/2=0.5\n",
      "# Exponentiation: 2^10=1024\n",
      "# Modular division:\n",
      "  0%11=0\n",
      "  1%11=1\n",
      "  2%11=2\n",
      "  3%11=3\n",
      "  4%11=4\n",
      "  5%11=5\n",
      "  6%11=6\n",
      "  7%11=7\n",
      "  8%11=8\n",
      "  9%11=9\n",
      "  10%11=10\n",
      "  11%11=0\n",
      "  12%11=1\n",
      "  13%11=2\n",
      "  14%11=3\n",
      "  15%11=4\n",
      "  16%11=5\n",
      "  17%11=6\n",
      "  18%11=7\n",
      "  19%11=8\n"
     ]
    }
   ],
   "source": [
    "# Doing arithmetic\n",
    "print \"# Addition: \"+\"1+1=\" + str(1+1)\n",
    "print \"# Multiplication: \"+\"1*2=\" + str(1*2)\n",
    "print \"# Division: \"+\"1/2=\" + str(1/2) # This is to show caution when manipulating floats\n",
    "print \"# Division: \"+\"1/2=\" + str(1./2)\n",
    "print \"# Division: \"+\"1/2=\" + str(1/2.)\n",
    "print \"# Exponentiation: \"+\"2^10=\" + str(2**10)\n",
    "# Para ejecutar la siguiente línea es necesario tener numpy\n",
    "# print \"Function evaluation: \"+\"sin(pi/2)=\" + str(sin(pi/2))\n",
    "print \"# Modular division:\"\n",
    "for i in range(20):\n",
    "    print \"  \"+str(i)+\"%11=\"+str(i%11)"
   ]
  },
  {
   "cell_type": "markdown",
   "metadata": {},
   "source": [
    "## Strings"
   ]
  },
  {
   "cell_type": "code",
   "execution_count": 13,
   "metadata": {},
   "outputs": [
    {
     "name": "stdout",
     "output_type": "stream",
     "text": [
      "Hello\n"
     ]
    }
   ],
   "source": [
    "x = \"Hello\"\n",
    "print x\n",
    "x = [1,4, 'hola', 'mundo', [4,5]]"
   ]
  },
  {
   "cell_type": "code",
   "execution_count": 14,
   "metadata": {},
   "outputs": [
    {
     "name": "stdout",
     "output_type": "stream",
     "text": [
      "1\n",
      "4\n",
      "hola\n",
      "mundo\n",
      "[4, 5]\n"
     ]
    }
   ],
   "source": [
    "for elemento in x:\n",
    "    print elemento"
   ]
  },
  {
   "cell_type": "code",
   "execution_count": 5,
   "metadata": {},
   "outputs": [
    {
     "data": {
      "text/plain": [
       "'ole'"
      ]
     },
     "execution_count": 5,
     "metadata": {},
     "output_type": "execute_result"
    }
   ],
   "source": [
    "# Characters in a string can be accesed as if it were a list\n",
    "x[-1]+x[-2]+x[1]"
   ]
  },
  {
   "cell_type": "code",
   "execution_count": 6,
   "metadata": {},
   "outputs": [
    {
     "name": "stdout",
     "output_type": "stream",
     "text": [
      "1 -\n",
      "2 -\n",
      "3\n",
      "**VS**\n",
      "1 - 2 - 3\n"
     ]
    }
   ],
   "source": [
    "# Use a comma at the end of string to avoid a newline\n",
    "print \"1 -\"\n",
    "print \"2 -\"\n",
    "print \"3\"\n",
    "print \"**VS**\"\n",
    "print \"1 -\",\n",
    "print \"2 -\",\n",
    "print \"3\""
   ]
  },
  {
   "cell_type": "code",
   "execution_count": 5,
   "metadata": {},
   "outputs": [
    {
     "name": "stdout",
     "output_type": "stream",
     "text": [
      "Hello World\n"
     ]
    }
   ],
   "source": [
    "# Concatenate strings by \"adding\" them\n",
    "print \"Hello \" + \"World\""
   ]
  },
  {
   "cell_type": "code",
   "execution_count": 6,
   "metadata": {},
   "outputs": [
    {
     "name": "stdout",
     "output_type": "stream",
     "text": [
      " Hello World Hello World Hello World Hello World Hello World Hello World Hello World Hello World Hello World Hello World\n"
     ]
    }
   ],
   "source": [
    "# Use asterisk to print a string several times\n",
    "print \" Hello World\" * 10"
   ]
  },
  {
   "cell_type": "code",
   "execution_count": 7,
   "metadata": {},
   "outputs": [
    {
     "name": "stdout",
     "output_type": "stream",
     "text": [
      "uno dos tres\n",
      "uno, dos, tres\n",
      "uno: 1\n"
     ]
    }
   ],
   "source": [
    "# String manipulation\n",
    "first=\"uno\"\n",
    "second=\"dos\"\n",
    "third=\"tres\"\n",
    "print first, second, third\n",
    "print first + \", \" + second + \", \" + third\n",
    "# Cannot mix strings and integers in print, must convert numbers to strings\n",
    "print first + \": \" + str(1)"
   ]
  },
  {
   "cell_type": "code",
   "execution_count": 16,
   "metadata": {},
   "outputs": [
    {
     "name": "stdout",
     "output_type": "stream",
     "text": [
      "DECODED: Vamos a aprender Python!\n",
      "ENCODED: Wbnpt!b!bqsfoefs!Qzuipo\"\n"
     ]
    }
   ],
   "source": [
    "# Un poquito de criptografía\n",
    "mensaje=\"Vamos a aprender Python!\"\n",
    "encrypted=\"\"\n",
    "for i in mensaje:\n",
    "    # Tomar el código ASCII de cada caracter y sumarle uno\n",
    "    encrypted += chr(ord(i)+1)\n",
    "print \"DECODED: \"+mensaje\n",
    "print \"ENCODED: \"+encrypted"
   ]
  },
  {
   "cell_type": "code",
   "execution_count": 26,
   "metadata": {},
   "outputs": [
    {
     "data": {
      "text/plain": [
       "1.4142135623730951"
      ]
     },
     "execution_count": 26,
     "metadata": {},
     "output_type": "execute_result"
    }
   ],
   "source": [
    "import math as m\n",
    "m.sqrt(2.0)"
   ]
  },
  {
   "cell_type": "markdown",
   "metadata": {},
   "source": [
    "## ¿Cómo solicitar información al usuario?"
   ]
  },
  {
   "cell_type": "code",
   "execution_count": 1,
   "metadata": {},
   "outputs": [
    {
     "name": "stdout",
     "output_type": "stream",
     "text": [
      "¿En qué año estamos? 123\n"
     ]
    }
   ],
   "source": [
    "x = raw_input(\"¿En qué año estamos? \")"
   ]
  },
  {
   "cell_type": "code",
   "execution_count": 2,
   "metadata": {},
   "outputs": [
    {
     "name": "stdout",
     "output_type": "stream",
     "text": [
      "123\n"
     ]
    }
   ],
   "source": [
    "print x"
   ]
  },
  {
   "cell_type": "code",
   "execution_count": 3,
   "metadata": {},
   "outputs": [
    {
     "data": {
      "text/plain": [
       "1111"
      ]
     },
     "execution_count": 3,
     "metadata": {},
     "output_type": "execute_result"
    }
   ],
   "source": [
    "# raw_input produce cadenas de caracteres\n",
    "# convertir al tipo deseado de ser necesario\n",
    "int(x) + 988"
   ]
  },
  {
   "cell_type": "code",
   "execution_count": 4,
   "metadata": {},
   "outputs": [
    {
     "name": "stdout",
     "output_type": "stream",
     "text": [
      "What is your name? Jaime\n",
      "Your name is Jaime.\n",
      "Do you like Python?(y/n)n\n",
      "Oh, too bad.\n"
     ]
    }
   ],
   "source": [
    "# Asking the user for input\n",
    "var = raw_input(\"What is your name? \")\n",
    "print \"Your name is \"+var+\".\"\n",
    "melike = raw_input(\"Do you like Python?(y/n)\")\n",
    "if melike == \"y\":\n",
    "    print \"Excellent, me too!\"\n",
    "elif melike == \"n\":\n",
    "    print \"Oh, too bad.\"\n",
    "else:\n",
    "    print \"What's that?\""
   ]
  },
  {
   "cell_type": "code",
   "execution_count": 1,
   "metadata": {},
   "outputs": [
    {
     "name": "stdout",
     "output_type": "stream",
     "text": [
      "What you wanna say? me\n"
     ]
    },
    {
     "data": {
      "text/plain": [
       "0"
      ]
     },
     "execution_count": 1,
     "metadata": {},
     "output_type": "execute_result"
    }
   ],
   "source": [
    "# Adding local OS functionalities\n",
    "import os\n",
    "phrase = raw_input(\"What you wanna say? \")\n",
    "os.system(\"say \" + phrase)"
   ]
  },
  {
   "cell_type": "markdown",
   "metadata": {},
   "source": [
    "## Comentarios"
   ]
  },
  {
   "cell_type": "code",
   "execution_count": 5,
   "metadata": {},
   "outputs": [
    {
     "name": "stdout",
     "output_type": "stream",
     "text": [
      "0\n",
      "1\n",
      "2\n",
      "3\n",
      "4\n",
      "0 1 2 3 4\n"
     ]
    }
   ],
   "source": [
    "# Comments are preceded by hastag (#)\n",
    "for i in range(5):\n",
    "    print i\n",
    "for i in range(5):\n",
    "    print i, # Everytime print is invoked a newline is drawn, append a comma\n",
    "             # at the end to prevent this "
   ]
  },
  {
   "cell_type": "markdown",
   "metadata": {},
   "source": [
    "## Expresiones lógicas"
   ]
  },
  {
   "cell_type": "code",
   "execution_count": 36,
   "metadata": {},
   "outputs": [
    {
     "data": {
      "text/plain": [
       "True"
      ]
     },
     "execution_count": 36,
     "metadata": {},
     "output_type": "execute_result"
    }
   ],
   "source": [
    "1 == 1 # Dos signos igual para decidir si dos objetos son iguales"
   ]
  },
  {
   "cell_type": "code",
   "execution_count": 37,
   "metadata": {},
   "outputs": [
    {
     "data": {
      "text/plain": [
       "False"
      ]
     },
     "execution_count": 37,
     "metadata": {},
     "output_type": "execute_result"
    }
   ],
   "source": [
    "2 == 1"
   ]
  },
  {
   "cell_type": "code",
   "execution_count": 38,
   "metadata": {},
   "outputs": [
    {
     "name": "stdout",
     "output_type": "stream",
     "text": [
      "True\n",
      "False\n",
      "False\n",
      "False\n"
     ]
    }
   ],
   "source": [
    "# AND Truth table\n",
    "# And, only true when both expressions are true\n",
    "print True and True\n",
    "print True and False\n",
    "print False and True\n",
    "print False and False"
   ]
  },
  {
   "cell_type": "code",
   "execution_count": 39,
   "metadata": {},
   "outputs": [
    {
     "name": "stdout",
     "output_type": "stream",
     "text": [
      "True\n",
      "True\n",
      "True\n",
      "False\n"
     ]
    }
   ],
   "source": [
    "# OR Truth table\n",
    "# OR, true when at least one of the conditions is met.\n",
    "print True or True\n",
    "print True or False\n",
    "print False or True\n",
    "print False or False"
   ]
  },
  {
   "cell_type": "code",
   "execution_count": 10,
   "metadata": {},
   "outputs": [
    {
     "name": "stdout",
     "output_type": "stream",
     "text": [
      "True\n",
      "False\n",
      "Boolean Operator Priority in Python (highest to lowest):\n",
      "p == q, p != q, not p, p and q, p or q\n"
     ]
    }
   ],
   "source": [
    "# En algunos casos el uso de paréntesis se vuelve necesario\n",
    "print True or False and False\n",
    "print (True or False) and False\n",
    "print \"Boolean Operator Priority in Python (highest to lowest):\"\n",
    "print \"p == q, p != q, not p, p and q, p or q\""
   ]
  },
  {
   "cell_type": "code",
   "execution_count": 12,
   "metadata": {},
   "outputs": [
    {
     "name": "stdout",
     "output_type": "stream",
     "text": [
      "A few examples of numerical comparisons in Python\n",
      "\n",
      "Testing the logical evaluation of inequalities....\n",
      "True\n",
      "False\n",
      "True\n",
      "Testing the intelligent comparison of ints and floats....\n",
      "True\n",
      "Testing the not logical operator....\n",
      "True\n"
     ]
    }
   ],
   "source": [
    "print \"A few examples of numerical comparisons in Python\\n\"\n",
    "# Sequential inequalities are interpreted as in conventional\n",
    "# mathematics\n",
    "print \"Testing the logical evaluation of inequalities....\"\n",
    "print 1 < 2 < 3\n",
    "print 2 <= 1\n",
    "print 2 >= 1\n",
    "# Intelligent comparison of ints and floats\n",
    "print \"Testing the intelligent comparison of ints and floats....\"\n",
    "print 1. == 1\n",
    "# Not equal !=\n",
    "print \"Testing the not logical operator....\"\n",
    "print 2 != 1"
   ]
  },
  {
   "cell_type": "markdown",
   "metadata": {},
   "source": [
    "## If, else y elif"
   ]
  },
  {
   "cell_type": "code",
   "execution_count": 40,
   "metadata": {},
   "outputs": [
    {
     "name": "stdout",
     "output_type": "stream",
     "text": [
      "x es menor o igual a 10\n",
      "x es mayor a 10\n"
     ]
    }
   ],
   "source": [
    "x = 9\n",
    "if x <= 10:\n",
    "    print \"x es menor o igual a 10\"\n",
    "x = 11\n",
    "if x > 10:\n",
    "    print \"x es mayor a 10\""
   ]
  },
  {
   "cell_type": "code",
   "execution_count": 42,
   "metadata": {},
   "outputs": [
    {
     "name": "stdout",
     "output_type": "stream",
     "text": [
      "x es mayor o igual a 1\n"
     ]
    }
   ],
   "source": [
    "# The else statement is executed in case the condition in if is false\n",
    "x = 10.0\n",
    "if x < 1:\n",
    "    print \"x es menor a 1\"\n",
    "else:\n",
    "    print \"x es mayor o igual a 1\""
   ]
  },
  {
   "cell_type": "code",
   "execution_count": 43,
   "metadata": {},
   "outputs": [
    {
     "name": "stdout",
     "output_type": "stream",
     "text": [
      "cero uno dos\n",
      "cero uno dos\n",
      "cero uno dos\n",
      "cero uno dos\n"
     ]
    }
   ],
   "source": [
    "# Conditions are evaluated one after the other and only the statement of the first true one is evaluated\n",
    "for i in range(12):\n",
    "    if i%3==0:\n",
    "        print \"cero\",\n",
    "    elif i%3==1:\n",
    "        print \"uno\",\n",
    "    elif i%3==2:\n",
    "        print \"dos\"\n",
    "    elif i==1:\n",
    "        print \"this never goes\""
   ]
  },
  {
   "cell_type": "markdown",
   "metadata": {},
   "source": [
    "## While"
   ]
  },
  {
   "cell_type": "code",
   "execution_count": 44,
   "metadata": {},
   "outputs": [
    {
     "name": "stdout",
     "output_type": "stream",
     "text": [
      "2\n",
      "3\n",
      "4\n",
      "5\n",
      "6\n",
      "7\n",
      "8\n",
      "9\n",
      "10\n",
      "11\n"
     ]
    }
   ],
   "source": [
    "# Indentation is essential\n",
    "j = 1\n",
    "while ( j <= 10 ):\n",
    "    j = j + 1 \n",
    "    print j"
   ]
  },
  {
   "cell_type": "code",
   "execution_count": 50,
   "metadata": {},
   "outputs": [
    {
     "name": "stdout",
     "output_type": "stream",
     "text": [
      "11\n"
     ]
    }
   ],
   "source": [
    "# Indentation is essential\n",
    "j = 1\n",
    "while ( j <= 10 ):\n",
    "    j = j + 1 \n",
    "print j"
   ]
  },
  {
   "cell_type": "code",
   "execution_count": 51,
   "metadata": {},
   "outputs": [
    {
     "name": "stdout",
     "output_type": "stream",
     "text": [
      "1 2 3 4 5 6 7 8 9 10\n"
     ]
    }
   ],
   "source": [
    "# I also know how to do while loops\n",
    "j = 1\n",
    "while ( j <= 10 ):\n",
    "    print j,\n",
    "    j = j + 1"
   ]
  },
  {
   "cell_type": "code",
   "execution_count": 48,
   "metadata": {},
   "outputs": [
    {
     "name": "stdout",
     "output_type": "stream",
     "text": [
      "[0, 1, 2, 3, 4, 5, 6, 7, 8, 9]\n",
      "2\n",
      "3\n"
     ]
    }
   ],
   "source": [
    "a = range(10)\n",
    "print a\n",
    "for i in a[2:4]:\n",
    "    print i"
   ]
  },
  {
   "cell_type": "markdown",
   "metadata": {},
   "source": [
    "# for"
   ]
  },
  {
   "cell_type": "code",
   "execution_count": 52,
   "metadata": {},
   "outputs": [
    {
     "name": "stdout",
     "output_type": "stream",
     "text": [
      "1^2=1\n",
      "2^2=4\n",
      "3^2=9\n",
      "4^2=16\n",
      "5^2=25\n",
      "6^2=36\n",
      "7^2=49\n",
      "8^2=64\n",
      "9^2=81\n"
     ]
    }
   ],
   "source": [
    "for i in range(1,10):\n",
    "    thesquare = i**2\n",
    "    print str(i)+\"^2=\"+str(thesquare)"
   ]
  },
  {
   "cell_type": "code",
   "execution_count": 54,
   "metadata": {},
   "outputs": [
    {
     "name": "stdout",
     "output_type": "stream",
     "text": [
      "ozaraziL divaD nauJ\n"
     ]
    }
   ],
   "source": [
    "inverted=\"\"\n",
    "for s in \"Juan David Lizarazo\":\n",
    "    inverted = s + inverted\n",
    "print inverted"
   ]
  },
  {
   "cell_type": "code",
   "execution_count": 55,
   "metadata": {},
   "outputs": [
    {
     "name": "stdout",
     "output_type": "stream",
     "text": [
      "elemento: casa\n",
      "elemento: perro\n",
      "elemento: árbol\n",
      "elemento: merienda\n"
     ]
    }
   ],
   "source": [
    "lista=[\"casa\",\"perro\",\"árbol\",\"merienda\"]\n",
    "for element in lista:\n",
    "    print \"elemento: \"+element"
   ]
  },
  {
   "cell_type": "markdown",
   "metadata": {},
   "source": [
    "## Listas"
   ]
  },
  {
   "cell_type": "code",
   "execution_count": 56,
   "metadata": {},
   "outputs": [
    {
     "name": "stdout",
     "output_type": "stream",
     "text": [
      "[0, 1, 2, 3, 4, 5, 6, 7, 8, 9, 10, 11, 12, 13, 14, 15, 16, 17, 18, 19, 20, 21, 22, 23, 24, 25, 26, 27, 28, 29, 30, 31, 32, 33, 34, 35, 36, 37, 38, 39, 40, 41, 42, 43, 44, 45, 46, 47, 48, 49, 50, 51, 52, 53, 54, 55, 56, 57, 58, 59, 60, 61, 62, 63, 64, 65, 66, 67, 68, 69, 70, 71, 72, 73, 74, 75, 76, 77, 78, 79, 80, 81, 82, 83, 84, 85, 86, 87, 88, 89, 90, 91, 92, 93, 94, 95, 96, 97, 98, 99]\n"
     ]
    }
   ],
   "source": [
    "lista = range(100)\n",
    "print lista"
   ]
  },
  {
   "cell_type": "code",
   "execution_count": 57,
   "metadata": {},
   "outputs": [
    {
     "name": "stdout",
     "output_type": "stream",
     "text": [
      "[0, 2, 4, 6, 8, 10, 12, 14, 16, 18, 20, 22, 24, 26, 28, 30, 32, 34, 36, 38, 40, 42, 44, 46, 48, 50, 52, 54, 56, 58, 60, 62, 64, 66, 68, 70, 72, 74, 76, 78, 80, 82, 84, 86, 88, 90, 92, 94, 96, 98]\n"
     ]
    }
   ],
   "source": [
    "lista2 = lista[0:99:2]\n",
    "print lista2"
   ]
  },
  {
   "cell_type": "code",
   "execution_count": 58,
   "metadata": {},
   "outputs": [
    {
     "name": "stdout",
     "output_type": "stream",
     "text": [
      "***************1***************\n",
      "[0, 1, 2, 3, 4, 5, 6, 7, 8, 9]\n",
      "***************2***************\n",
      "2\n",
      "0\n",
      "The length of the list is 7.\n",
      "[2, 6, 3, 3, 6, 2, 0]\n",
      "***************3***************\n",
      "[1, 6, 3, 3, 6, 2, 0]\n",
      "***************3***************\n",
      "[1, 6, 3, 3, 6, 2, 0]\n",
      "[9, 6, 3, 3, 6, 2, 0]\n",
      "[9, 6, 3, 3, 6, 2, 0]\n",
      "[1, 6, 3, 3, 6, 2, 0]\n",
      "[1, 6, 3, 3, 6, 2, 0]\n"
     ]
    }
   ],
   "source": [
    "# Listas\n",
    "print \"*\"*15+\"1\"+\"*\"*15\n",
    "# Define a list and print it\n",
    "thelist = range(10) \n",
    "print thelist\n",
    "\n",
    "print \"*\"*15+\"2\"+\"*\"*15\n",
    "# Define a list by stating its elements and then print it\n",
    "thelist = [2, 6, 3, 3, 6, 2, 0]\n",
    "print thelist[0] # The first element's index is 0\n",
    "print thelist[6] # The last element's index is the lenght of the array - 1\n",
    "# One can invoke the length of a list with the function len\n",
    "print \"The length of the list is \"+ str(len(thelist)) + \".\"\n",
    "print thelist\n",
    "\n",
    "print \"*\"*15+\"3\"+\"*\"*15\n",
    "# This to show how to change elements in an array\n",
    "thelist[0] = 1 # The index goes in square brackets\n",
    "print thelist\n",
    "\n",
    "print \"*\"*15+\"3\"+\"*\"*15\n",
    "# If two lists are made equal to one another, they \n",
    "# remain the same thing when either is changed\n",
    "thelist2 = thelist               \n",
    "print thelist2\n",
    "thelist2[0] = 9 # I change one element in thelist2\n",
    "print thelist2\n",
    "print thelist   # It is also changed in thelist\n",
    "thelist[0] = 1 # I change one element in thelist\n",
    "print thelist\n",
    "print thelist2 # It is also changed in thelist2"
   ]
  },
  {
   "cell_type": "code",
   "execution_count": 60,
   "metadata": {},
   "outputs": [
    {
     "data": {
      "text/plain": [
       "[1, 2, 3, 4, 5, 6, 7, 8, 9]"
      ]
     },
     "execution_count": 60,
     "metadata": {},
     "output_type": "execute_result"
    }
   ],
   "source": [
    "range(100)[1:10:1] "
   ]
  },
  {
   "cell_type": "code",
   "execution_count": 61,
   "metadata": {},
   "outputs": [
    {
     "data": {
      "text/plain": [
       "[1, 2, 3, 4, 5, 6, 7, 8, 9]"
      ]
     },
     "execution_count": 61,
     "metadata": {},
     "output_type": "execute_result"
    }
   ],
   "source": [
    "range(1,10)"
   ]
  }
 ],
 "metadata": {
  "kernelspec": {
   "display_name": "Python 3",
   "language": "python",
   "name": "python3"
  },
  "language_info": {
   "codemirror_mode": {
    "name": "ipython",
    "version": 3
   },
   "file_extension": ".py",
   "mimetype": "text/x-python",
   "name": "python",
   "nbconvert_exporter": "python",
   "pygments_lexer": "ipython3",
   "version": "3.5.3"
  }
 },
 "nbformat": 4,
 "nbformat_minor": 1
}
