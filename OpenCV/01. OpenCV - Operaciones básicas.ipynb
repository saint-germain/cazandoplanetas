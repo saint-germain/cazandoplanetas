{
 "cells": [
  {
   "cell_type": "markdown",
   "metadata": {},
   "source": [
    "# OpenCV\n",
    "\n",
    "<img src=\"https://upload.wikimedia.org/wikipedia/commons/3/32/OpenCV_Logo_with_text_svg_version.svg\" alt=\"Drawing\" style=\"width: 200px;\"/>\n",
    "\n",
    "## Acerca de\n",
    "\n",
    "OpenCV (Open Source Computer Vision) es una librería Open Source de Visión Artificial. Ésta fue concebida para otorgar una plataforma común entre las aplicaciones de Visión y para acelerar su despliegue y ejecución final en apliaciones comerciales, debido a la licencia BSD, la cual resulta flexible para iniciativas privadas.\n",
    "\n",
    "En la actualidad, la librería cuenta con más de 2500 algoritmos implementados de forma óptima y eficiente, los cuales emplean técnicas y aproximaciones clásicas, así como rutinas del estado del arte basadas en Machine Learning. El conjunto de algoritmos presentes en OpenCV permiten resolver diversas tareas, tales como: \n",
    "* Detección y reconocimiento facial\n",
    "* Detección de objetos\n",
    "* Clasificación de acciones e identificación de patrones\n",
    "* Seguimiento de objetos en movimiento\n",
    "* Reconstrucción 3D de objetos\n",
    "* Estimación de pose\n",
    "* Realidad aumentada\n",
    "* Entre otros\n",
    "\n",
    "Esta librería, se encuentra desarrollada principalmente en C/C++, sin embargo cuenta con extensiones para ser empleada en diversos lenguajes de programación, tal como Python, MATLAB y Java. Además es posible emplearla en los principales sistemas operativos: Windows, Linux, OSX y Android.\n",
    "\n",
    "A pesar de que la velocidad del código escrito en Python es mucho menor a la velocidad de las rutinas implementadas en C/C++ las extensiones de OpenCV para Python se encuentran escritas de forma nativa, lo cual certifica que cada uno de los algoritmos se ejecutan con la mayor velocidad, con la facilidad de escritura de Python."
   ]
  },
  {
   "cell_type": "markdown",
   "metadata": {},
   "source": [
    "# Entrada y salida de imágenes\n",
    "\n",
    "## Representación\n",
    "Perceptualmente, una imagen digital consta de una secuencia de intensidades (píxeles) agrupadas en una matriz de dimension $H \\times W$. Inicialmente, cada valor de intensidad presente en la matriz puede encontrarse en el rango $[0, 255]$ o en el rango $[0, 1]$ (Normalizado). \n",
    "\n",
    "Ahora bien las imágenes pueden ser representadas a color o en escala de grises. En este caso, la variación radica en el número de matrices que representan a una imagen. Si una imagen presenta tres matrices (RGB inicialmente), entonces es posible afirmar que la imagen descrita contiene información cromática. Por el contrario, si una imagen se encuentra descrita por una única matriz, ésta se encuentra en escala de grises.\n",
    "\n",
    "**Nota:** Si una imagen cuenta con una capa de transparencia, esta se encontrará descrita por 4 matrices. Sin embargo, esta información puede resultar de utilidad en aplicaciones de visualización.\n",
    "\n",
    "A continuación se presentarán dos ejemplos en los cuales se presenta esta distinción, asímismo, se presentarán las funciones básicas de carga de imágenes en OpenCV. "
   ]
  },
  {
   "cell_type": "markdown",
   "metadata": {},
   "source": [
    "## Carga de imágenes\n",
    "Debido a que las imágenes se encuentran representadas a través de matrices, OpenCV opera sobre arreglos de Numpy, lo cual permite emplear las funciones de esta librería, así como ``scipy``, ``matplotlib``  y otras librerías que puedan realizar operaciones sobre matrices. \n",
    "\n",
    "En este caso, se presentan dos funciones diseñadas para la carga de imágenes en Python, la primera basada en ``matplotlib.image`` y la segunda, basada en OpenCV (``cv2``). La diferencia entre las dos radica principalmente en el orden de los canales RGB, mientras la función ``matplotlib.image.imread`` retorna las tres matrices en el orden $[R, G, B]$, la función ``cv2.imread`` retorna una imagen con canales $[B, G, R]$.\n",
    "\n",
    "**Nota:** A lo largo del tutorial se empleará la función de Matplotlib.\n",
    "\n",
    "Para visualizar las imágenes es posible usar la función ``matplotlib.pyplot.imshow``, como se presenta a continuación:"
   ]
  },
  {
   "cell_type": "code",
   "execution_count": null,
   "metadata": {
    "collapsed": true
   },
   "outputs": [],
   "source": [
    "# Importación de librerías básicas\n",
    "import cv2 # OpenCV\n",
    "import numpy as np # Numpy\n",
    "import scipy.misc as smc\n",
    "%matplotlib inline\n",
    "import matplotlib.pyplot as plt # matplotlib.pyplot\n",
    "import matplotlib.image as mpimg # matplotlib.image"
   ]
  },
  {
   "cell_type": "markdown",
   "metadata": {},
   "source": [
    "### Carga y visualización de imágenes RGB"
   ]
  },
  {
   "cell_type": "code",
   "execution_count": null,
   "metadata": {
    "collapsed": true
   },
   "outputs": [],
   "source": [
    "img = mpimg.imread('img/DSC_0280.JPG')\n",
    "ax = plt.imshow(img)\n",
    "print(\"Dimensiones: {0}\".format(img.shape)) # Las dimensiones de la imagen"
   ]
  },
  {
   "cell_type": "markdown",
   "metadata": {},
   "source": [
    "## Espacios de color\n",
    "En ocasiones, el espacio de representación RGB es limitado para realizar ciertas operaciones sobre las imágenes, como por ejemplo, para hallar las regiones de la imágen que son de un color específico, o para encontrar el gradiente de la imagen, como se presentará en el siguiente módulo. En estos casos, otros espacios de color como la escala de grises o [HSV](https://en.wikipedia.org/wiki/HSL_and_HSV) pueden ser óptimos para estas aplicaciones. Para este fin, OpenCV dispone de la función ``cv2.cvtColor``, la cual permite transformar una imagen desde un espacio de representación a otro.\n",
    "\n",
    "Las conversiones permitidas por la función se encuentran descritas a través de un conjunto de constantes ``cv2.COlOR_*``, presentes en el módulo ``cv2``. En el presente ejemplo, se emplearán las constantes ``cv2.COLOR_RGB2GRAY`` y ``cv2.COLOR_RGB2HSV``, sin embargo, el listado completo de dichas constantes se puede obtener con la siguiente instrucción: "
   ]
  },
  {
   "cell_type": "code",
   "execution_count": null,
   "metadata": {
    "collapsed": true
   },
   "outputs": [],
   "source": [
    "flags = [i for i in dir(cv2) if i.startswith('COLOR_')]\n",
    "print(flags)"
   ]
  },
  {
   "cell_type": "markdown",
   "metadata": {},
   "source": [
    "A continuación se procede a cambiar el espacio de representación de la imagen cargada"
   ]
  },
  {
   "cell_type": "code",
   "execution_count": null,
   "metadata": {
    "collapsed": true,
    "scrolled": true
   },
   "outputs": [],
   "source": [
    "gray = cv2.cvtColor(img, cv2.COLOR_RGB2GRAY)\n",
    "ax = plt.imshow(gray, cmap='gray') # Nótese el uso del keyword cmap para visualizar la imagen en escala de grises\n",
    "print('Dimensiones: {0}'.format(gray.shape))"
   ]
  },
  {
   "cell_type": "code",
   "execution_count": null,
   "metadata": {
    "collapsed": true
   },
   "outputs": [],
   "source": [
    "hsv_img = cv2.cvtColor(img, cv2.COLOR_RGB2HSV)\n",
    "ax = plt.imshow(hsv_img) # Notar que las regiones que comparten un color tienen valores de intensidad HSV similares"
   ]
  },
  {
   "cell_type": "markdown",
   "metadata": {},
   "source": [
    "Debido a que la función ``plt.imshow`` espera una imagen representada en el espacio RGB, si se carga una imagen en escala de grises, hsv u otro espacio de color, es necesario cambiar de mapa de colores a través del argumento ``cmap``. La lista completa de mapas de colores disponibles en matplotlib se encuentra en: http://matplotlib.org/users/colormaps.html"
   ]
  },
  {
   "cell_type": "markdown",
   "metadata": {},
   "source": [
    "## Operaciones sobre canales de color\n",
    "Debido a que una imagen se comporta como una matriz de numpy, es posible realizar las operaciones habituales sobre las mismas, por ejemplo, acceder al valor de un índice en específico, realizar slicing (rebanado) y otras operaciones sobre una matriz. _e.g.,_"
   ]
  },
  {
   "cell_type": "code",
   "execution_count": null,
   "metadata": {
    "collapsed": true
   },
   "outputs": [],
   "source": [
    "# Recortar una imagen usando slicing\n",
    "crop = img[0:3000, 100:2000, :] # Se realiza la operación sobre los tres canales\n",
    "plt.imshow(crop)"
   ]
  },
  {
   "cell_type": "code",
   "execution_count": null,
   "metadata": {
    "collapsed": true,
    "scrolled": true
   },
   "outputs": [],
   "source": [
    "# Extraer los canales individuales de una imagen\n",
    "r, g, b = np.rollaxis(img[:,:,...], axis=-1)\n",
    "plt.imshow(b, cmap='gray')"
   ]
  },
  {
   "cell_type": "code",
   "execution_count": null,
   "metadata": {
    "collapsed": true
   },
   "outputs": [],
   "source": [
    "# Combinar tres canales de color para formar una imagen\n",
    "full_img = np.dstack((r, g, b))\n",
    "plt.imshow(full_img)"
   ]
  },
  {
   "cell_type": "code",
   "execution_count": null,
   "metadata": {
    "collapsed": true
   },
   "outputs": [],
   "source": [
    "# Hallar el máximo valor de intensidad en la imagen\n",
    "np.max(img)"
   ]
  },
  {
   "cell_type": "code",
   "execution_count": null,
   "metadata": {
    "collapsed": true
   },
   "outputs": [],
   "source": [
    "# Calcular la raíz cuadrada de la imagen\n",
    "plt.imshow(np.sqrt(img))"
   ]
  },
  {
   "cell_type": "code",
   "execution_count": null,
   "metadata": {
    "collapsed": true
   },
   "outputs": [],
   "source": [
    "# Cambiar los valores de una region\n",
    "img[2500:4000, 0:2000, :] = img[2500:4000, 4000:6000, :]\n",
    "plt.imshow(img)"
   ]
  },
  {
   "cell_type": "markdown",
   "metadata": {},
   "source": [
    "## Operaciones Aritméticas entre imágenes\n",
    "Además de las funciones incluidas en numpy, es posible emplear las funciones nativas presentes en OpenCV, estas permiten realizar operaciones de suma (``cv2.add``), suma ponderada (``cv2.addWeigthed``), así como operaciones binarias como el and (``cv2.bitwise_and``), or (``cv2.bitwise_or``) y not lógicos (``cv2.bitwise_not``). Es necesario notar que estas funciones son saturadas, esto implica que en caso de que una suma desborde el valor de 255, el resultado será equivalente a este valor. \n",
    "\n",
    "A continuación se presenta el uso de las función de suma ponderada, la cual es útil para sobreponer dos imágenes, las otras funciones serán empleadas más adelante en el tutorial."
   ]
  },
  {
   "cell_type": "markdown",
   "metadata": {},
   "source": [
    "### Suma ponderada de imágenes\n",
    "Esta función calcula la superposición de dos imágenes, cada una con un peso de $\\alpha$ y $\\beta$, respectivamente. Adicionalmente, la función admite la inclusión de un parámetro de equalización $\\gamma$, el cual es añadido al resultado final. En conclusión, dadas dos imágenes $\\mathcal{Im1}$ e $\\mathcal{Im2}$, la función ``cv2.addWeighted`` calcula:\n",
    "$$\n",
    "\\mathcal{dst} = \\alpha \\cdot \\mathcal{Im1} + \\beta \\cdot \\mathcal{Im2} + \\gamma \n",
    "$$\n",
    "\n",
    "Si se desea realizar una transición suave entre dos imágenes, es posible emplear un solo peso $\\alpha$ para ambas imágenes, como se presenta a continuación:\n",
    "\n",
    "$$\n",
    "\\mathcal{dst} = (1 - \\alpha) \\cdot \\mathcal{Im1} + \\alpha \\cdot \\mathcal{Im2} \n",
    "$$\n"
   ]
  },
  {
   "cell_type": "markdown",
   "metadata": {},
   "source": [
    "**Nota:** Si $\\alpha$ inicia en cero e incrementa lentamente hasta uno, es posible observar una transición suave entre las imágenes."
   ]
  },
  {
   "cell_type": "code",
   "execution_count": 1,
   "metadata": {},
   "outputs": [
    {
     "ename": "NameError",
     "evalue": "name 'mpimg' is not defined",
     "output_type": "error",
     "traceback": [
      "\u001b[0;31m---------------------------------------------------------------------------\u001b[0m",
      "\u001b[0;31mNameError\u001b[0m                                 Traceback (most recent call last)",
      "\u001b[0;32m<ipython-input-1-135b83ee9025>\u001b[0m in \u001b[0;36m<module>\u001b[0;34m()\u001b[0m\n\u001b[1;32m      3\u001b[0m \u001b[0mgamma\u001b[0m \u001b[0;34m=\u001b[0m \u001b[0;36m0\u001b[0m\u001b[0;34m\u001b[0m\u001b[0m\n\u001b[1;32m      4\u001b[0m \u001b[0;34m\u001b[0m\u001b[0m\n\u001b[0;32m----> 5\u001b[0;31m \u001b[0mimg1\u001b[0m \u001b[0;34m=\u001b[0m \u001b[0mmpimg\u001b[0m\u001b[0;34m.\u001b[0m\u001b[0mimread\u001b[0m\u001b[0;34m(\u001b[0m\u001b[0;34m'img/blend/12003.jpg'\u001b[0m\u001b[0;34m)\u001b[0m\u001b[0;34m\u001b[0m\u001b[0m\n\u001b[0m\u001b[1;32m      6\u001b[0m \u001b[0mimg2\u001b[0m \u001b[0;34m=\u001b[0m \u001b[0mmpimg\u001b[0m\u001b[0;34m.\u001b[0m\u001b[0mimread\u001b[0m\u001b[0;34m(\u001b[0m\u001b[0;34m'img/blend/22090.jpg'\u001b[0m\u001b[0;34m)\u001b[0m\u001b[0;34m\u001b[0m\u001b[0m\n\u001b[1;32m      7\u001b[0m \u001b[0;34m\u001b[0m\u001b[0m\n",
      "\u001b[0;31mNameError\u001b[0m: name 'mpimg' is not defined"
     ]
    }
   ],
   "source": [
    "alpha = 0.5\n",
    "beta = 1 - alpha\n",
    "gamma = 0\n",
    "\n",
    "img1 = mpimg.imread('img/blend/12003.jpg')\n",
    "img2 = mpimg.imread('img/blend/22090.jpg')\n",
    "\n",
    "plt.imshow(img1)\n",
    "plt.figure()\n",
    "plt.imshow(img2)"
   ]
  },
  {
   "cell_type": "code",
   "execution_count": null,
   "metadata": {
    "collapsed": true
   },
   "outputs": [],
   "source": [
    "dst = cv2.addWeighted(img1, alpha, img2, beta, gamma) \n",
    "plt.imshow(dst)"
   ]
  },
  {
   "cell_type": "markdown",
   "metadata": {},
   "source": [
    "## Guardar imágenes"
   ]
  },
  {
   "cell_type": "markdown",
   "metadata": {},
   "source": [
    "Al igual que la función ``imread``, presente tanto en el módulo ``cv2``, aśi como en el módulo ``matplotlib.image`` se empleaba para cargar una imagen, la función ``imsave`` presente en ambos módulos permite guardar una imagen en un archivo binario. Una vez más, la diferencia entre las funciones en cuestión radica en el orden de los canales de la imagen, mientras la función de OpenCV espera una imagen BGR, la función de matplotlib espera una imagen en orden RGB.\n",
    "\n",
    "Por ejemplo, es posible guardar el resultado de la operación de suma ponderada presentado previamente:"
   ]
  },
  {
   "cell_type": "code",
   "execution_count": null,
   "metadata": {
    "collapsed": true
   },
   "outputs": [],
   "source": [
    "mpimg.imsave('img/dst.jpg', dst)"
   ]
  },
  {
   "cell_type": "markdown",
   "metadata": {},
   "source": [
    "Es posible verificar que la imagen se encuentra guardada:"
   ]
  },
  {
   "cell_type": "code",
   "execution_count": null,
   "metadata": {
    "collapsed": true
   },
   "outputs": [],
   "source": [
    "import os.path as osp\n",
    "\n",
    "print(\"La imagen existe: {0}\".format(osp.isfile('img/dst.jpg')))\n",
    "\n",
    "img = mpimg.imread('img/dst.jpg')\n",
    "plt.imshow(img)"
   ]
  }
 ],
 "metadata": {
  "kernelspec": {
   "display_name": "Python 3",
   "language": "python",
   "name": "python3"
  },
  "language_info": {
   "codemirror_mode": {
    "name": "ipython",
    "version": 3
   },
   "file_extension": ".py",
   "mimetype": "text/x-python",
   "name": "python",
   "nbconvert_exporter": "python",
   "pygments_lexer": "ipython3",
   "version": "3.5.3"
  }
 },
 "nbformat": 4,
 "nbformat_minor": 2
}
