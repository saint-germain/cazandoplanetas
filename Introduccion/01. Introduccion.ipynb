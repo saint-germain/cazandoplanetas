{
 "cells": [
  {
   "cell_type": "markdown",
   "metadata": {},
   "source": [
    "# Cazando Planetas con Python\n",
    "\n",
    "## Clubes de Ciencia Colombia 2017\n",
    "\n",
    "### Instructores: Luis Henry Quiroga - Germán Chaparro\n",
    "### Monitor: Julián Hernández\n",
    "\n",
    "\n",
    "#### Resumen\n",
    "¿Te has preguntado cómo los científicos encuentran planetas en otros sistemas solares? En este club los estudiantes realizarán sus primeras líneas de programación en Python que usarán para formar imágenes de discos alrededor de estrellas, es aquí donde se formarán los exoplanetas. Los datos con los que trabajaremos son imágenes recientes del Telescopio Espacial Hubble alrededor de la estrella conocida como Fomalhaut donde por primera vez se detectó un exoplaneta en imagen directa en el 2007. Al final del club, los estudiantes tendrán los conceptos básicos de programación y tratamiento de imágenes que podrán aplicar a cualquier campo científico y tecnológico que deseen desarrollar en un futuro.\n",
    "\n",
    "<img src=\"fomal1.jpg\">\n",
    "\n"
   ]
  },
  {
   "cell_type": "markdown",
   "metadata": {},
   "source": [
    "## Programando\n",
    "\n",
    "¿Cuál es la habilidad más importante en programación?\n",
    "\n",
    "- (a) Pensar como un computador.\n",
    "- (b) Escribir código muy bien.\n",
    "- (c) Poder solucionar problemas.\n",
    "- (d) Ser muy bueno en matemática.\n",
    "\n",
    "Un algoritmo es:\n",
    "\n",
    "- (a) Una solución de un problema que puede ser solucionado por un computador.\n",
    "- (b) Una lista paso-a-paso de instrucciones que si se siguen exactamente, solucionan el problema considerado.\n",
    "- (c) Una serie de instrucciones implementados en un lenguaje de programación.\n",
    "- (d) Un tipo especial de notación utilizada por programadores.\n",
    "\n",
    "Código fuente es otro nombre para:\n",
    "\n",
    "- (a) Las instrucciones en un programa, almacenadas en un archivo.\n",
    "- (b) El lenguaje en el que estás programando (por ejemplo Python).\n",
    "- (c) El ambiente o herramienta en la que estás programando.\n",
    "- (d) El número o \"código\" que le debes dar a cada programa para decirle al computador qué hacer.\n",
    "\n",
    "¿Cuál es la diferencia entre un lenguaje de programación de alto nivel y uno de bajo nivel?\n",
    "\n",
    "- (a) Es de alto nivel si estás de pie y de bajo nivel si estás sentado/a.\n",
    "- (b) Es de alto nivel si estás programando para un computador y de bajo nivel si estás programando para un teléfono o una tablet.\n",
    "- (c) Es de alto nivel si el lenguaje es más cercano al lenguaje humano y de bajo nivel si es más cercano al lenguaje de máquina.\n",
    "- (d) Es de alto nivel si es fácil de programar y es corto, es de bajo nivel si es difícil y los programas son largos.\n",
    "\n",
    "Un programa es:\n",
    "\n",
    "- (a) Una secuencia de instrucciones que especifica cómo hacer un cálculo.\n",
    "- (b) Algo que sale en televisión como una novela o un programa de concurso.\n",
    "- (c) Un cálculo, así sea simbólico.\n",
    "- (d) Lo mismo que un algoritmo.\n",
    "\n",
    "Debugging es:\n",
    "\n",
    "- (a) Encontrar errores de programación y corregirlos.\n",
    "- (b) Matar todos los bichos de la casa.\n",
    "- (c) Comenzar a escribir un programa.\n",
    "- (d) Desparasitar un animal.\n"
   ]
  },
  {
   "cell_type": "markdown",
   "metadata": {},
   "source": [
    "## Nuestro primer programa\n",
    "\n",
    "La función `print()` nos muestra el contenido del objeto que nos interesa. Su argumento es lo que va dentro del paréntesis, y el resultado es el contenido del argumento."
   ]
  },
  {
   "cell_type": "code",
   "execution_count": null,
   "metadata": {},
   "outputs": [],
   "source": [
    "print(10)"
   ]
  },
  {
   "cell_type": "code",
   "execution_count": null,
   "metadata": {},
   "outputs": [],
   "source": [
    "print(\"Hola\")"
   ]
  },
  {
   "cell_type": "code",
   "execution_count": null,
   "metadata": {},
   "outputs": [],
   "source": [
    "print(\"Hola\",\"como\",\"estas\")"
   ]
  },
  {
   "cell_type": "code",
   "execution_count": null,
   "metadata": {},
   "outputs": [],
   "source": [
    "print(\"Hola como estas\")"
   ]
  },
  {
   "cell_type": "code",
   "execution_count": null,
   "metadata": {},
   "outputs": [],
   "source": [
    "print(\"Uno mas uno es:\",2)"
   ]
  },
  {
   "cell_type": "code",
   "execution_count": null,
   "metadata": {
    "collapsed": true
   },
   "outputs": [],
   "source": [
    "# Esto es un comentario\n",
    "print(\"Uno mas uno es:\",2) # Esto también"
   ]
  },
  {
   "cell_type": "markdown",
   "metadata": {},
   "source": [
    "¿Para qué sirven los comentarios?\n",
    "\n",
    "- (a) Para decirle al computador lo que quieres decir en tu programa.\n",
    "- (b) Para que las personas que están leyendo tu código entiendan lo que hace el programa.\n",
    "- (c) Nada, es información superflua que no se necesita.\n",
    "- (d) Nada en un programa corto. Sólo se necesitan para programas grandes."
   ]
  },
  {
   "cell_type": "markdown",
   "metadata": {},
   "source": [
    "## Errores"
   ]
  },
  {
   "cell_type": "code",
   "execution_count": null,
   "metadata": {},
   "outputs": [],
   "source": [
    "print(\"Hola\" # Error de sintaxis"
   ]
  },
  {
   "cell_type": "code",
   "execution_count": null,
   "metadata": {},
   "outputs": [],
   "source": [
    "print(1/0) # Error de ejecución"
   ]
  },
  {
   "cell_type": "code",
   "execution_count": null,
   "metadata": {},
   "outputs": [],
   "source": [
    "print(\"Uno mas uno es:\",1*1) # Error semántico"
   ]
  },
  {
   "cell_type": "markdown",
   "metadata": {},
   "source": [
    "<img src=\"tips.jpg\">\n",
    "\n",
    "- Adaptado de http://interactivepython.org/runestone/static/thinkcspy/index.html\n"
   ]
  }
 ],
 "metadata": {
  "kernelspec": {
   "display_name": "Python 3",
   "language": "python",
   "name": "python3"
  },
  "language_info": {
   "codemirror_mode": {
    "name": "ipython",
    "version": 3
   },
   "file_extension": ".py",
   "mimetype": "text/x-python",
   "name": "python",
   "nbconvert_exporter": "python",
   "pygments_lexer": "ipython3",
   "version": "3.5.3"
  }
 },
 "nbformat": 4,
 "nbformat_minor": 2
}
