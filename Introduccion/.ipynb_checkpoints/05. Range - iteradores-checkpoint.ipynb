{
 "cells": [
  {
   "cell_type": "markdown",
   "metadata": {},
   "source": [
    "# Dibujos quelonios\n",
    "\n",
    "- https://es.wikipedia.org/wiki/Logo_(lenguaje_de_programación)\n",
    "\n"
   ]
  },
  {
   "cell_type": "code",
   "execution_count": 3,
   "metadata": {
    "collapsed": true
   },
   "outputs": [],
   "source": [
    "import turtle                    # necesitamos un módulo llamado turtle para esta parte"
   ]
  },
  {
   "cell_type": "code",
   "execution_count": 9,
   "metadata": {},
   "outputs": [],
   "source": [
    "ventana = turtle.Screen()        # crea una ventana para dibujar\n",
    "henry = turtle.Turtle()          # crea una tortuga que se llama henry"
   ]
  },
  {
   "cell_type": "code",
   "execution_count": 5,
   "metadata": {
    "collapsed": true
   },
   "outputs": [],
   "source": [
    "henry.forward(150)               # le decimos a henry que avance 150 pasos\n",
    "henry.left(90)                   # henry, da una vuelta de 90 grados hacia la derecha"
   ]
  },
  {
   "cell_type": "markdown",
   "metadata": {},
   "source": [
    "Trata de dibujar un cuadrado de 150 pasos de lado."
   ]
  },
  {
   "cell_type": "code",
   "execution_count": 6,
   "metadata": {},
   "outputs": [
    {
     "data": {
      "text/plain": [
       "(150.00,0.00)"
      ]
     },
     "execution_count": 6,
     "metadata": {},
     "output_type": "execute_result"
    }
   ],
   "source": [
    "henry.position()                 # Esto es un atributo"
   ]
  },
  {
   "cell_type": "code",
   "execution_count": 13,
   "metadata": {},
   "outputs": [
    {
     "data": {
      "text/plain": [
       "('pink', 'pink')"
      ]
     },
     "execution_count": 13,
     "metadata": {},
     "output_type": "execute_result"
    }
   ],
   "source": [
    "henry.color()                    # Esto también es un atributo, y se puede cambiar"
   ]
  },
  {
   "cell_type": "code",
   "execution_count": 20,
   "metadata": {
    "collapsed": true
   },
   "outputs": [],
   "source": [
    "henry.color(\"pink\")\n",
    "henry.forward(100)"
   ]
  },
  {
   "cell_type": "code",
   "execution_count": 23,
   "metadata": {
    "collapsed": true
   },
   "outputs": [],
   "source": [
    "# Si quiero volver a empezar, pero cambiando el color del fondo\n",
    "ventana.clear()             \n",
    "ventana.bgcolor(\"lightgreen\")\n",
    "henry = turtle.Turtle()"
   ]
  },
  {
   "cell_type": "code",
   "execution_count": 21,
   "metadata": {
    "collapsed": true
   },
   "outputs": [],
   "source": [
    "henry.pensize(3)"
   ]
  },
  {
   "cell_type": "code",
   "execution_count": 22,
   "metadata": {},
   "outputs": [],
   "source": [
    "henry.sety(100)\n",
    "henry.setx(100)              "
   ]
  },
  {
   "cell_type": "markdown",
   "metadata": {},
   "source": [
    "¿Para qué escribimos `turtle.Turtle()` para obtener un nuevo objeto Turtle (tortuga)?\n",
    "\n",
    "- (a) Por claridad. También funcionaría escribir `Turtle()`.\n",
    "- (b) El punto (.) le dice a Python que necesitamos un nuevo objeto.\n",
    "- (c) La primera `turtle` le dice a Python que necesitamos el módulo `turtle` en el cual encontramos el objeto `Turtle`.\n",
    "\n",
    "Trata de dibujar una X con la tortuga."
   ]
  },
  {
   "cell_type": "code",
   "execution_count": null,
   "metadata": {
    "collapsed": true
   },
   "outputs": [],
   "source": [
    "julian = turtle.Turtle()     # crea otra tortuga que se llama julian"
   ]
  },
  {
   "cell_type": "markdown",
   "metadata": {},
   "source": [
    "Haz que henry dibuje un triángulo verde al tiempo que julián dibuja un cuadrado amarillo (poniendo las instrucciones todas en la misma celda).\n",
    "\n",
    "## El ciclo `for`\n"
   ]
  },
  {
   "cell_type": "code",
   "execution_count": 25,
   "metadata": {},
   "outputs": [
    {
     "name": "stdout",
     "output_type": "stream",
     "text": [
      "Mi mejor amiga hoy es Jacinta\n",
      "Mi mejor amiga hoy es Nepomucena\n",
      "Mi mejor amiga hoy es Gertrudis\n",
      "Mi mejor amiga hoy es Poncha\n",
      "Mi mejor amiga hoy es Domitila\n"
     ]
    }
   ],
   "source": [
    "for amiga in ['Jacinta','Nepomucena','Gertrudis','Poncha','Domitila']:\n",
    "    print(\"Mi mejor amiga hoy es\",amiga) # indentación es un tab para lo que quiero que se repita en el ciclo"
   ]
  },
  {
   "cell_type": "code",
   "execution_count": 26,
   "metadata": {},
   "outputs": [
    {
     "name": "stdout",
     "output_type": "stream",
     "text": [
      "Mi mejor amiga hoy es Jacinta\n",
      "Mi mejor amiga hoy es Nepomucena\n",
      "Mi mejor amiga hoy es Gertrudis\n",
      "Mi mejor amiga hoy es Poncha\n",
      "Mi mejor amiga hoy es Domitila\n"
     ]
    }
   ],
   "source": [
    "for i in ['Jacinta','Nepomucena','Gertrudis','Poncha','Domitila']:\n",
    "    print(\"Mi mejor amiga hoy es\",i)"
   ]
  },
  {
   "cell_type": "code",
   "execution_count": 28,
   "metadata": {},
   "outputs": [
    {
     "data": {
      "text/plain": [
       "['Jacinta', 'Nepomucena', 'Gertrudis', 'Poncha', 'Domitila']"
      ]
     },
     "execution_count": 28,
     "metadata": {},
     "output_type": "execute_result"
    }
   ],
   "source": [
    "amigas=['Jacinta','Nepomucena','Gertrudis','Poncha','Domitila'] # esto es un objeto llamado lista\n",
    "amigas"
   ]
  },
  {
   "cell_type": "code",
   "execution_count": 29,
   "metadata": {},
   "outputs": [
    {
     "name": "stdout",
     "output_type": "stream",
     "text": [
      "Mi mejor amiga hoy es Jacinta\n",
      "Mi mejor amiga hoy es Nepomucena\n",
      "Mi mejor amiga hoy es Gertrudis\n",
      "Mi mejor amiga hoy es Poncha\n",
      "Mi mejor amiga hoy es Domitila\n"
     ]
    }
   ],
   "source": [
    "for amiga in amigas:\n",
    "    print(\"Mi mejor amiga hoy es\",amiga) "
   ]
  },
  {
   "cell_type": "code",
   "execution_count": 30,
   "metadata": {},
   "outputs": [
    {
     "data": {
      "text/plain": [
       "list"
      ]
     },
     "execution_count": 30,
     "metadata": {},
     "output_type": "execute_result"
    }
   ],
   "source": [
    "type(amigas)"
   ]
  },
  {
   "cell_type": "code",
   "execution_count": 31,
   "metadata": {},
   "outputs": [
    {
     "data": {
      "text/plain": [
       "str"
      ]
     },
     "execution_count": 31,
     "metadata": {},
     "output_type": "execute_result"
    }
   ],
   "source": [
    "type(amiga)"
   ]
  },
  {
   "cell_type": "code",
   "execution_count": 32,
   "metadata": {},
   "outputs": [
    {
     "data": {
      "text/plain": [
       "'Domitila'"
      ]
     },
     "execution_count": 32,
     "metadata": {},
     "output_type": "execute_result"
    }
   ],
   "source": [
    "amiga"
   ]
  },
  {
   "cell_type": "code",
   "execution_count": 33,
   "metadata": {},
   "outputs": [
    {
     "name": "stdout",
     "output_type": "stream",
     "text": [
      "Mi amiga numero 1 es Jacinta\n",
      "Mi amiga numero 2 es Nepomucena\n",
      "Mi amiga numero 3 es Gertrudis\n",
      "Mi amiga numero 4 es Poncha\n",
      "Mi amiga numero 5 es Domitila\n"
     ]
    }
   ],
   "source": [
    "k=1\n",
    "for amiga in amigas:\n",
    "    print(\"Mi amiga numero\",k,\"es\",amiga)\n",
    "    k+=1"
   ]
  },
  {
   "cell_type": "code",
   "execution_count": 10,
   "metadata": {},
   "outputs": [],
   "source": [
    "ventana.clear()             \n",
    "german = turtle.Turtle()\n",
    "\n",
    "for i in [0, 1, 2, 3]:      # repite cuatro veces las instrucciones\n",
    "    german.forward(150)\n",
    "    german.left(90)"
   ]
  },
  {
   "cell_type": "code",
   "execution_count": 11,
   "metadata": {
    "collapsed": true
   },
   "outputs": [],
   "source": [
    "for aColor in [\"yellow\", \"red\", \"purple\", \"blue\"]:      \n",
    "    german.forward(50)\n",
    "    german.left(90)"
   ]
  },
  {
   "cell_type": "code",
   "execution_count": 12,
   "metadata": {
    "collapsed": true
   },
   "outputs": [],
   "source": [
    "for aColor in [\"yellow\", \"red\", \"purple\", \"blue\"]: \n",
    "    german.color(aColor)\n",
    "    german.forward(50)\n",
    "    german.left(90)"
   ]
  },
  {
   "cell_type": "code",
   "execution_count": 13,
   "metadata": {},
   "outputs": [
    {
     "ename": "IndentationError",
     "evalue": "unexpected indent (<ipython-input-13-584140159239>, line 4)",
     "output_type": "error",
     "traceback": [
      "\u001b[0;36m  File \u001b[0;32m\"<ipython-input-13-584140159239>\"\u001b[0;36m, line \u001b[0;32m4\u001b[0m\n\u001b[0;31m    german.forward(50)\u001b[0m\n\u001b[0m    ^\u001b[0m\n\u001b[0;31mIndentationError\u001b[0m\u001b[0;31m:\u001b[0m unexpected indent\n"
     ]
    }
   ],
   "source": [
    "for aColor in [\"yellow\", \"red\", \"purple\", \"blue\"]: \n",
    "    german.color(aColor)\n",
    "print(aColor)\n",
    "    german.forward(50)\n",
    "    german.left(90)"
   ]
  },
  {
   "cell_type": "markdown",
   "metadata": {},
   "source": [
    "¿En este código, cuántas líneas se muestran?\n",
    "```\n",
    "for numero in [5, 4, 3, 2, 1, 0]:\n",
    "    print(\"Tengo\", numero, \"galletas.\")    \n",
    "```\n",
    "- (a) 1\n",
    "- (b) 5\n",
    "- (c) 6\n",
    "- (d) 10\n",
    "\n",
    "¿En el código anterior, cuál es el número del segundo mensaje que se muestra?\n",
    "\n",
    "- (a) 2\n",
    "- (b) 1\n",
    "- (c) 4\n",
    "\n",
    "¿Cómo sabe Python cuáles instrucciones debe seguir durante el ciclo?\n",
    "- (a) Se indentan con un tab.\n",
    "- (b) Siempre hay exactamente una línea dentro del ciclo.\n",
    "- (c) El ciclo termina con dos puntos.\n",
    "\n"
   ]
  },
  {
   "cell_type": "markdown",
   "metadata": {},
   "source": [
    "## La función `range()` e iteradores"
   ]
  },
  {
   "cell_type": "code",
   "execution_count": 14,
   "metadata": {},
   "outputs": [
    {
     "data": {
      "text/plain": [
       "range(0, 10)"
      ]
     },
     "execution_count": 14,
     "metadata": {},
     "output_type": "execute_result"
    }
   ],
   "source": [
    "range(10)"
   ]
  },
  {
   "cell_type": "code",
   "execution_count": 16,
   "metadata": {},
   "outputs": [
    {
     "name": "stdout",
     "output_type": "stream",
     "text": [
      "0\n",
      "1\n",
      "2\n",
      "3\n",
      "4\n",
      "5\n",
      "6\n",
      "7\n",
      "8\n",
      "9\n"
     ]
    }
   ],
   "source": [
    "for i in range(10):\n",
    "    print(i)"
   ]
  },
  {
   "cell_type": "code",
   "execution_count": 22,
   "metadata": {},
   "outputs": [
    {
     "data": {
      "text/plain": [
       "range"
      ]
     },
     "execution_count": 22,
     "metadata": {},
     "output_type": "execute_result"
    }
   ],
   "source": [
    "type(range(10))"
   ]
  },
  {
   "cell_type": "code",
   "execution_count": 21,
   "metadata": {},
   "outputs": [
    {
     "data": {
      "text/plain": [
       "[0, 1, 2, 3, 4, 5, 6, 7, 8, 9]"
      ]
     },
     "execution_count": 21,
     "metadata": {},
     "output_type": "execute_result"
    }
   ],
   "source": [
    "list(range(10))"
   ]
  },
  {
   "cell_type": "code",
   "execution_count": 17,
   "metadata": {
    "collapsed": true
   },
   "outputs": [],
   "source": [
    "for i in range(10):\n",
    "    german.forward(15)\n",
    "    german.right(90)\n",
    "    german.forward(15)\n",
    "    german.left(90)"
   ]
  },
  {
   "cell_type": "code",
   "execution_count": 19,
   "metadata": {},
   "outputs": [],
   "source": [
    "repeticiones=10\n",
    "dist=15\n",
    "angulo=90\n",
    "for i in range(repeticiones):\n",
    "    german.forward(dist)\n",
    "    german.right(angulo)\n",
    "    german.forward(dist)\n",
    "    german.left(angulo)"
   ]
  },
  {
   "cell_type": "code",
   "execution_count": 26,
   "metadata": {},
   "outputs": [],
   "source": [
    "ar=range(0, 19, 2)\n",
    "br=range(0, 20, 2)\n",
    "cr=range(10, 0, -1)"
   ]
  },
  {
   "cell_type": "code",
   "execution_count": 28,
   "metadata": {},
   "outputs": [
    {
     "name": "stdout",
     "output_type": "stream",
     "text": [
      "0\n",
      "2\n",
      "4\n",
      "6\n",
      "8\n",
      "10\n",
      "12\n",
      "14\n",
      "16\n",
      "18\n"
     ]
    }
   ],
   "source": [
    "for a in ar:\n",
    "    print(a) # inténtalo con los demás rangos, br y cr para ver qué ocurre"
   ]
  },
  {
   "cell_type": "markdown",
   "metadata": {},
   "source": [
    "Trata de hacer un círculo, una espiral y un barco."
   ]
  },
  {
   "cell_type": "raw",
   "metadata": {},
   "source": []
  },
  {
   "cell_type": "code",
   "execution_count": null,
   "metadata": {
    "collapsed": true
   },
   "outputs": [],
   "source": []
  },
  {
   "cell_type": "code",
   "execution_count": null,
   "metadata": {
    "collapsed": true
   },
   "outputs": [],
   "source": []
  },
  {
   "cell_type": "code",
   "execution_count": null,
   "metadata": {
    "collapsed": true
   },
   "outputs": [],
   "source": []
  },
  {
   "cell_type": "code",
   "execution_count": null,
   "metadata": {
    "collapsed": true
   },
   "outputs": [],
   "source": []
  },
  {
   "cell_type": "code",
   "execution_count": null,
   "metadata": {
    "collapsed": true
   },
   "outputs": [],
   "source": []
  },
  {
   "cell_type": "code",
   "execution_count": null,
   "metadata": {
    "collapsed": true
   },
   "outputs": [],
   "source": []
  },
  {
   "cell_type": "code",
   "execution_count": null,
   "metadata": {
    "collapsed": true
   },
   "outputs": [],
   "source": []
  },
  {
   "cell_type": "markdown",
   "metadata": {},
   "source": [
    "<img src=\"genius.png\">\n",
    "- Adaptado de http://interactivepython.org/runestone/static/thinkcspy/index.html"
   ]
  },
  {
   "cell_type": "code",
   "execution_count": null,
   "metadata": {
    "collapsed": true
   },
   "outputs": [],
   "source": []
  }
 ],
 "metadata": {
  "kernelspec": {
   "display_name": "Python 3",
   "language": "python",
   "name": "python3"
  },
  "language_info": {
   "codemirror_mode": {
    "name": "ipython",
    "version": 3
   },
   "file_extension": ".py",
   "mimetype": "text/x-python",
   "name": "python",
   "nbconvert_exporter": "python",
   "pygments_lexer": "ipython3",
   "version": "3.5.3"
  }
 },
 "nbformat": 4,
 "nbformat_minor": 2
}
