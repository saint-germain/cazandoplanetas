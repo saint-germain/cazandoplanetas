{
 "cells": [
  {
   "cell_type": "markdown",
   "metadata": {},
   "source": [
    "## La función `range()` e iteradores"
   ]
  },
  {
   "cell_type": "code",
   "execution_count": null,
   "metadata": {},
   "outputs": [],
   "source": [
    "range(10)"
   ]
  },
  {
   "cell_type": "code",
   "execution_count": null,
   "metadata": {},
   "outputs": [],
   "source": [
    "for i in range(10):\n",
    "    print(i)"
   ]
  },
  {
   "cell_type": "code",
   "execution_count": null,
   "metadata": {},
   "outputs": [],
   "source": [
    "type(range(10))"
   ]
  },
  {
   "cell_type": "code",
   "execution_count": null,
   "metadata": {},
   "outputs": [],
   "source": [
    "list(range(10))"
   ]
  },
  {
   "cell_type": "code",
   "execution_count": null,
   "metadata": {
    "collapsed": true
   },
   "outputs": [],
   "source": [
    "for i in range(10):\n",
    "    german.forward(15)\n",
    "    german.right(90)\n",
    "    german.forward(15)\n",
    "    german.left(90)"
   ]
  },
  {
   "cell_type": "code",
   "execution_count": null,
   "metadata": {
    "collapsed": true
   },
   "outputs": [],
   "source": [
    "repeticiones=10\n",
    "dist=15\n",
    "angulo=90\n",
    "for i in range(repeticiones):\n",
    "    german.forward(dist)\n",
    "    german.right(angulo)\n",
    "    german.forward(dist)\n",
    "    german.left(angulo)"
   ]
  },
  {
   "cell_type": "code",
   "execution_count": null,
   "metadata": {
    "collapsed": true
   },
   "outputs": [],
   "source": [
    "ar=range(0, 19, 2)\n",
    "br=range(0, 20, 2)\n",
    "cr=range(10, 0, -1)"
   ]
  },
  {
   "cell_type": "code",
   "execution_count": null,
   "metadata": {},
   "outputs": [],
   "source": [
    "for a in ar:\n",
    "    print(a) # inténtalo con los demás rangos, br y cr para ver qué ocurre"
   ]
  },
  {
   "cell_type": "markdown",
   "metadata": {},
   "source": [
    "¿En el comando `range(3, 10, 2)` para qué sirve el segundo argumento (10)?\n",
    "\n",
    "- (a) El rango se debe detener en el 9.\n",
    "- (b) El rango debe iniciar en el 10.\n",
    "- (c) El rango inicia desde 3 y termina en 10 (incluyendo el 10).\n",
    "- (d) El rango incluye números que van de diez en diez.\n",
    "\n",
    "¿Qué comando genera la lista [2, 5, 8]?\n",
    "\n",
    "- (a) range(2, 5, 8)\n",
    "- (b) range(2, 8, 3)\n",
    "- (c) list(range(2, 5, 8))\n",
    "- (d) list(range(2, 8, 3))\n",
    "\n",
    "¿Qué ocurre si el rango sólo tiene un argumento?\n",
    "\n",
    "- (a) El rango empieza desde 0 y se incluyen todos los números excepto el argumento con el que se llamó a `range`.\n",
    "- (b) El rango empieza desde 1 y se incluyen todos los números excepto el argumento con el que se llamó a `range`.\n",
    "- (c) El rango empieza desde 1 y se incluyen todos los números incluyendo el argumento con el que se llamó a `range`.\n",
    "- (d) Causa un error, siempre necesita 3 argumentos."
   ]
  },
  {
   "cell_type": "markdown",
   "metadata": {},
   "source": [
    "Trata de hacer un círculo, una espiral y un barco. Prueba también los métodos `penup, pendown, shape, stamp, speed`. Los argumentos permitidos para `shape` son `arrow, blank, circle, classic, square, triangle, turtle`. Hay una lista resumida de métodos en http://interactivepython.org/runestone/static/thinkcspy/PythonTurtle/SummaryofTurtleMethods.html.\n",
    "\n",
    "- La documentación completa de `turtle` está en https://docs.python.org/2/library/turtle.html"
   ]
  },
  {
   "cell_type": "markdown",
   "metadata": {},
   "source": [
    "<img src=\"dif.png\">\n",
    "- Adaptado de http://interactivepython.org/runestone/static/thinkcspy/index.html"
   ]
  }
 ],
 "metadata": {
  "kernelspec": {
   "display_name": "Python 3",
   "language": "python",
   "name": "python3"
  },
  "language_info": {
   "codemirror_mode": {
    "name": "ipython",
    "version": 3
   },
   "file_extension": ".py",
   "mimetype": "text/x-python",
   "name": "python",
   "nbconvert_exporter": "python",
   "pygments_lexer": "ipython3",
   "version": "3.5.3"
  }
 },
 "nbformat": 4,
 "nbformat_minor": 2
}
